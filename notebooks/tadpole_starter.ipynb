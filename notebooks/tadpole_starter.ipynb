{
 "cells": [
  {
   "cell_type": "markdown",
   "metadata": {},
   "source": [
    "# PyCon UK: Alzheimer's Disease Challenge Hackathon\n",
    "### LB1: TADPOLE Standard training set.\n",
    "\n",
    "This training dataset contains medical data including:\n",
    "* MRI scans\n",
    "* PET scans\n",
    "* DTI scans\n",
    "* Cognitive assessment data\n",
    "* Demographic data\n",
    "* Genetic data\n",
    "* CSF data\n",
    "\n",
    "For more details on this dataset including a full data dictionary please see https://github.com/swhustla/pycon2017-alzheimers-hack/tree/master/docs\n",
    "\n",
    "### LB2: TADPOLE Standard prediction set.\n",
    "\n",
    "`LB1` subjects and `LB2` subjects combine to form a training dataset, however `LB2` subjects are those for which predictions should be made in the final submission.\n",
    "\n",
    "See the github readme file [\"https://github.com/swhustla/pycon2017-alzheimers-hack/blob/master/README.md\"] for more information and explanations on the data sources."
   ]
  },
  {
   "cell_type": "code",
   "execution_count": null,
   "metadata": {},
   "outputs": [],
   "source": [
    "from dateutil import rrule\n",
    "import matplotlib.pyplot as plt\n",
    "import numpy as np\n",
    "import pandas as pd\n",
    "from pathlib import Path\n",
    "import seaborn as sns\n",
    "from sklearn import model_selection, preprocessing, pipeline\n",
    "\n",
    "%matplotlib inline\n",
    "pd.set_option('display.max_columns', None)"
   ]
  },
  {
   "cell_type": "code",
   "execution_count": null,
   "metadata": {},
   "outputs": [],
   "source": [
    "# Load TADPOLE data\n",
    "DATA_DIR = Path('../data')\n",
    "tadpole = pd.read_csv(DATA_DIR / 'TADPOLE_LB1_LB2.csv', low_memory=False)\n",
    "tadpole.head()"
   ]
  },
  {
   "cell_type": "code",
   "execution_count": null,
   "metadata": {},
   "outputs": [],
   "source": [
    "# There are >1900 features...\n",
    "tadpole.columns"
   ]
  },
  {
   "cell_type": "code",
   "execution_count": null,
   "metadata": {},
   "outputs": [],
   "source": [
    "tadpole.columns[:10]"
   ]
  },
  {
   "cell_type": "code",
   "execution_count": null,
   "metadata": {},
   "outputs": [],
   "source": [
    "outcomes = [\"ADAS13\", \"DX\", \"Ventricles\"]\n",
    "cog_tests_attributes = [\"CDRSB\", \"ADAS11\", \"MMSE\", \"RAVLT_immediate\"]\n",
    "mri_measures = ['Hippocampus', 'WholeBrain', 'Entorhinal', 'MidTemp' , \"FDG\", \"AV45\"]\n",
    "pet_measures = [\"FDG\", \"AV45\"]\n",
    "csf_measures = [\"ABETA_UPENNBIOMK9_04_19_17\", \"TAU_UPENNBIOMK9_04_19_17\", \"PTAU_UPENNBIOMK9_04_19_17\"]\n",
    "risk_factors = [\"APOE4\", \"AGE\"]"
   ]
  },
  {
   "cell_type": "code",
   "execution_count": null,
   "metadata": {},
   "outputs": [],
   "source": [
    "# Add age at exam\n",
    "tadpole.EXAMDATE = pd.to_datetime(tadpole.EXAMDATE)\n",
    "tadpole_grouped = tadpole.groupby(\"RID\").apply(lambda x:(x[\"EXAMDATE\"]-x[\"EXAMDATE\"].min()).dt.days/365.25 + x[\"AGE\"].min())\n",
    "tadpole_grouped.sort_index(inplace=True)\n",
    "tadpole.sort_values(by=[\"RID\", \"EXAMDATE\"], inplace=True)\n",
    "tadpole[\"AGE_AT_EXAM\"] = tadpole_grouped.values\n",
    "tadpole['AGE_INT'] = tadpole['AGE_AT_EXAM'].apply(int)"
   ]
  },
  {
   "cell_type": "code",
   "execution_count": null,
   "metadata": {},
   "outputs": [],
   "source": [
    "tadpole[tadpole['ADAS13'].notnull()]\\\n",
    "    .groupby('AGE_INT')['ADAS13']\\\n",
    "    .count().plot()"
   ]
  },
  {
   "cell_type": "code",
   "execution_count": null,
   "metadata": {
    "scrolled": true
   },
   "outputs": [],
   "source": [
    "tadpole[tadpole['ADAS13'].notnull()]\\\n",
    "    .groupby('AGE_INT')['ADAS13']\\\n",
    "    .mean().plot()"
   ]
  },
  {
   "cell_type": "code",
   "execution_count": null,
   "metadata": {},
   "outputs": [],
   "source": [
    "tadpole[tadpole.RID==259].plot(kind=\"scatter\", x=\"AGE_AT_EXAM\", y=\"ADAS13\")\n",
    "plt.show()"
   ]
  },
  {
   "cell_type": "markdown",
   "metadata": {},
   "source": [
    "# Attempt #1: Jitter the CSV!"
   ]
  },
  {
   "cell_type": "code",
   "execution_count": null,
   "metadata": {},
   "outputs": [],
   "source": [
    "submission = pd.read_csv(DATA_DIR / 'TADPOLE_Submission_Pycon_Dummy.csv')"
   ]
  },
  {
   "cell_type": "code",
   "execution_count": null,
   "metadata": {},
   "outputs": [],
   "source": [
    "submission.head()"
   ]
  },
  {
   "cell_type": "code",
   "execution_count": null,
   "metadata": {},
   "outputs": [],
   "source": [
    "pred_cols = submission.columns[3:]"
   ]
  },
  {
   "cell_type": "code",
   "execution_count": null,
   "metadata": {},
   "outputs": [],
   "source": [
    "submission.to_csv(DATA_DIR / 'TADPOLE_Submission_Pycon_NAME.csv', index=False)"
   ]
  },
  {
   "cell_type": "code",
   "execution_count": null,
   "metadata": {},
   "outputs": [],
   "source": [
    "submission.columns"
   ]
  },
  {
   "cell_type": "markdown",
   "metadata": {},
   "source": [
    "# Attempt #2: Last seen non-missing value"
   ]
  },
  {
   "cell_type": "code",
   "execution_count": null,
   "metadata": {},
   "outputs": [],
   "source": [
    "dx_map = {\n",
    "        'MCI': 'MCI',\n",
    "        'NL': 'CN',\n",
    "        'Dementia': 'AD',\n",
    "        'MCI to Dementia': 'AD',\n",
    "        'NL to MCI': 'MCI',\n",
    "        'MCI to NL': 'CN',\n",
    "        'Dementia to MCI': 'MCI',\n",
    "        'NL to Dementia': 'AD'\n",
    "    }\n",
    "tadpole['diagnosis'] = tadpole['DX'].map(dx_map)"
   ]
  },
  {
   "cell_type": "code",
   "execution_count": null,
   "metadata": {},
   "outputs": [],
   "source": [
    "rids = submission['RID'].unique()"
   ]
  },
  {
   "cell_type": "code",
   "execution_count": null,
   "metadata": {},
   "outputs": [],
   "source": [
    "for rid in rids:\n",
    "    train_rid = tadpole[tadpole['RID'] == rid]\n",
    "    diagnosis = train_rid['diagnosis'].dropna().iloc[-1]\n",
    "    adas13 = train_rid['ADAS13'].dropna().iloc[-1]\n",
    "    ventricles = train_rid['Ventricles'].dropna().iloc[-1]\n",
    "    submission.loc[submission['RID'] == rid, 'CN relative probability'] = int(diagnosis == 'CN')\n",
    "    submission.loc[submission['RID'] == rid, 'MCI relative probability'] = int(diagnosis == 'MCI')\n",
    "    submission.loc[submission['RID'] == rid, 'AD relative probability'] = int(diagnosis == 'AD')\n",
    "    submission.loc[submission['RID'] == rid, 'ADAS13'] = adas13\n",
    "    submission.loc[submission['RID'] == rid, 'ADAS13 50% CI lower'] = adas13 - 10\n",
    "    submission.loc[submission['RID'] == rid, 'ADAS13 50% CI upper'] = adas13 + 10\n",
    "    submission.loc[submission['RID'] == rid, 'Ventricles_ICV'] = ventricles\n",
    "    submission.loc[submission['RID'] == rid, 'Ventricles_ICV 50% CI lower'] = ventricles - .5\n",
    "    submission.loc[submission['RID'] == rid, 'Ventricles_ICV 50% CI upper'] = ventricles + .5"
   ]
  },
  {
   "cell_type": "code",
   "execution_count": null,
   "metadata": {
    "scrolled": true
   },
   "outputs": [],
   "source": [
    "submission.head()"
   ]
  },
  {
   "cell_type": "code",
   "execution_count": null,
   "metadata": {},
   "outputs": [],
   "source": [
    "submission.to_csv(DATA_DIR / 'TADPOLE_Submission_Pycon_NAME.csv', index=False)"
   ]
  },
  {
   "cell_type": "markdown",
   "metadata": {},
   "source": [
    "# Create X, y datasets"
   ]
  },
  {
   "cell_type": "code",
   "execution_count": null,
   "metadata": {},
   "outputs": [],
   "source": [
    "X_cols = [\n",
    "    # cog_tests_attributes\n",
    "    \"CDRSB\", \"ADAS11\", \"MMSE\", \"RAVLT_immediate\",\n",
    "    # mri_measures\n",
    "    'Hippocampus', 'WholeBrain', 'Entorhinal', 'MidTemp' , \"FDG\", \"AV45\",\n",
    "    # pet_measures\n",
    "    \"FDG\", \"AV45\",\n",
    "    # csf_measures\n",
    "    \"ABETA_UPENNBIOMK9_04_19_17\", \"TAU_UPENNBIOMK9_04_19_17\", \"PTAU_UPENNBIOMK9_04_19_17\",\n",
    "    # risk_factors\n",
    "    \"APOE4\", \"AGE\",\n",
    "    # age\n",
    "    'AGE_AT_EXAM',\n",
    "]\n",
    "\n",
    "X = tadpole[X_cols]\n",
    "y_diag = tadpole['diagnosis']\n",
    "y_adas = tadpole['ADAS13']\n",
    "y_vent = tadpole['Ventricles']"
   ]
  }
 ],
 "metadata": {
  "kernelspec": {
   "display_name": "Python 3 (DAT-13)",
   "language": "python",
   "name": "dat13"
  },
  "language_info": {
   "codemirror_mode": {
    "name": "ipython",
    "version": 3
   },
   "file_extension": ".py",
   "mimetype": "text/x-python",
   "name": "python",
   "nbconvert_exporter": "python",
   "pygments_lexer": "ipython3",
   "version": "3.6.2"
  },
  "toc": {
   "collapse_to_match_collapsible_headings": false,
   "colors": {
    "hover_highlight": "#DAA520",
    "navigate_num": "#000000",
    "navigate_text": "#333333",
    "running_highlight": "#FF0000",
    "selected_highlight": "#FFD700",
    "sidebar_border": "#EEEEEE",
    "wrapper_background": "#FFFFFF"
   },
   "moveMenuLeft": true,
   "nav_menu": {
    "height": "99px",
    "width": "252px"
   },
   "navigate_menu": true,
   "number_sections": true,
   "sideBar": true,
   "skip_h1_title": false,
   "threshold": 4,
   "toc_cell": false,
   "toc_section_display": "block",
   "toc_window_display": false,
   "widenNotebook": false
  }
 },
 "nbformat": 4,
 "nbformat_minor": 2
}
