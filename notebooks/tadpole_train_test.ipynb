{
 "cells": [
  {
   "cell_type": "markdown",
   "metadata": {},
   "source": [
    "# PyCon UK: Alzheimer's Disease Challenge Hackathon\n",
    "### Create local train/test dataset\n"
   ]
  },
  {
   "cell_type": "code",
   "execution_count": null,
   "metadata": {},
   "outputs": [],
   "source": [
    "from dateutil import rrule\n",
    "import matplotlib.pyplot as plt\n",
    "import numpy as np\n",
    "import pandas as pd\n",
    "from pathlib import Path\n",
    "import seaborn as sns\n",
    "from sklearn import model_selection, preprocessing, pipeline\n",
    "\n",
    "%matplotlib inline\n",
    "pd.set_option('display.max_columns', None)"
   ]
  },
  {
   "cell_type": "code",
   "execution_count": null,
   "metadata": {},
   "outputs": [],
   "source": [
    "# Load TADPOLE data\n",
    "DATA_DIR = Path('../data')\n",
    "tadpole = pd.read_csv(DATA_DIR / 'TADPOLE_LB1_LB2.csv', low_memory=False)\n",
    "tadpole.head()"
   ]
  },
  {
   "cell_type": "code",
   "execution_count": null,
   "metadata": {},
   "outputs": [],
   "source": [
    "tadpole.columns[:10]"
   ]
  },
  {
   "cell_type": "code",
   "execution_count": null,
   "metadata": {},
   "outputs": [],
   "source": [
    "outcomes = [\"ADAS13\", \"DX\", \"Ventricles\"]\n",
    "cog_tests_attributes = [\"CDRSB\", \"ADAS11\", \"MMSE\", \"RAVLT_immediate\"]\n",
    "mri_measures = ['Hippocampus', 'WholeBrain', 'Entorhinal', 'MidTemp' , \"FDG\", \"AV45\"]\n",
    "pet_measures = [\"FDG\", \"AV45\"]\n",
    "csf_measures = [\"ABETA_UPENNBIOMK9_04_19_17\", \"TAU_UPENNBIOMK9_04_19_17\", \"PTAU_UPENNBIOMK9_04_19_17\"]\n",
    "risk_factors = [\"APOE4\", \"AGE\"]"
   ]
  },
  {
   "cell_type": "code",
   "execution_count": null,
   "metadata": {},
   "outputs": [],
   "source": [
    "# Add age at exam\n",
    "tadpole.EXAMDATE = pd.to_datetime(tadpole.EXAMDATE)\n",
    "tadpole_grouped = tadpole.groupby(\"RID\").apply(lambda x:(x[\"EXAMDATE\"]-x[\"EXAMDATE\"].min()).dt.days/365.25 + x[\"AGE\"].min())\n",
    "tadpole_grouped.sort_index(inplace=True)\n",
    "tadpole.sort_values(by=[\"RID\", \"EXAMDATE\"], inplace=True)\n",
    "tadpole[\"AGE_AT_EXAM\"] = tadpole_grouped.values\n",
    "tadpole['AGE_INT'] = tadpole['AGE_AT_EXAM'].apply(int)"
   ]
  },
  {
   "cell_type": "markdown",
   "metadata": {},
   "source": [
    "# Create X, y datasets"
   ]
  },
  {
   "cell_type": "code",
   "execution_count": null,
   "metadata": {},
   "outputs": [],
   "source": [
    "dx_map = {\n",
    "        'MCI': 'MCI',\n",
    "        'NL': 'CN',\n",
    "        'Dementia': 'AD',\n",
    "        'MCI to Dementia': 'AD',\n",
    "        'NL to MCI': 'MCI',\n",
    "        'MCI to NL': 'CN',\n",
    "        'Dementia to MCI': 'MCI',\n",
    "        'NL to Dementia': 'AD'\n",
    "    }\n",
    "tadpole['diagnosis'] = tadpole['DX'].map(dx_map)"
   ]
  },
  {
   "cell_type": "code",
   "execution_count": null,
   "metadata": {},
   "outputs": [],
   "source": [
    "X_cols = [\n",
    "    # cog_tests_attributes\n",
    "    \"CDRSB\", \"ADAS11\", \"MMSE\", \"RAVLT_immediate\",\n",
    "    # mri_measures\n",
    "    'Hippocampus', 'WholeBrain', 'Entorhinal', 'MidTemp' , \"FDG\", \"AV45\",\n",
    "    # pet_measures\n",
    "    \"FDG\", \"AV45\",\n",
    "    # csf_measures\n",
    "    \"ABETA_UPENNBIOMK9_04_19_17\", \"TAU_UPENNBIOMK9_04_19_17\", \"PTAU_UPENNBIOMK9_04_19_17\",\n",
    "    # risk_factors\n",
    "    \"APOE4\", \"AGE\",\n",
    "    # age\n",
    "    'AGE_AT_EXAM',\n",
    "]\n",
    "\n",
    "X = tadpole[X_cols]\n",
    "y_diag = tadpole['diagnosis']\n",
    "y_adas = tadpole['ADAS13']\n",
    "y_vent = tadpole['Ventricles']"
   ]
  },
  {
   "cell_type": "markdown",
   "metadata": {},
   "source": [
    "# Create local train/test sets"
   ]
  },
  {
   "cell_type": "code",
   "execution_count": null,
   "metadata": {},
   "outputs": [],
   "source": [
    "# Train on all patients except last observation!\n",
    "test_idx = []\n",
    "patients_from_2016 = tadpole[tadpole['EXAMDATE'] >= pd.to_datetime('2016-01-01')]  # 347 of these\n",
    "for rid in  patients_from_2016['RID'].unique():\n",
    "    rid_df = tadpole[tadpole['RID'] == rid].copy()\n",
    "    rid_df.sort_values('EXAMDATE', ascending=True, inplace=True)\n",
    "    test_idx += [rid_df.index[-1]]  # most recent visit from that patient"
   ]
  },
  {
   "cell_type": "code",
   "execution_count": null,
   "metadata": {},
   "outputs": [],
   "source": [
    "train_idx = list(set(tadpole.index) - set(test_idx))  # exclude visits in test data from training data"
   ]
  },
  {
   "cell_type": "code",
   "execution_count": null,
   "metadata": {},
   "outputs": [],
   "source": [
    "# Create train/test dfs\n",
    "train = tadpole.loc[train_idx]\n",
    "test = tadpole.loc[test_idx]"
   ]
  },
  {
   "cell_type": "code",
   "execution_count": null,
   "metadata": {},
   "outputs": [],
   "source": [
    "# Cut off 2016 onwards in training data\n",
    "train = train[train['EXAMDATE'] < pd.to_datetime('2016-01-01')].copy()"
   ]
  },
  {
   "cell_type": "code",
   "execution_count": null,
   "metadata": {},
   "outputs": [],
   "source": [
    "# Checks\n",
    "(train['EXAMDATE'].min(), train['EXAMDATE'].max())"
   ]
  },
  {
   "cell_type": "code",
   "execution_count": null,
   "metadata": {},
   "outputs": [],
   "source": [
    "# Convert dates to first day of month\n",
    "def month_year(x):\n",
    "    return pd.to_datetime(x.strftime('%Y-%m-01'))\n",
    "\n",
    "month_year(test['EXAMDATE'].min())"
   ]
  }
 ],
 "metadata": {
  "kernelspec": {
   "display_name": "Python 3 (DAT-13)",
   "language": "python",
   "name": "dat13"
  },
  "language_info": {
   "codemirror_mode": {
    "name": "ipython",
    "version": 3
   },
   "file_extension": ".py",
   "mimetype": "text/x-python",
   "name": "python",
   "nbconvert_exporter": "python",
   "pygments_lexer": "ipython3",
   "version": "3.6.2"
  },
  "toc": {
   "collapse_to_match_collapsible_headings": false,
   "colors": {
    "hover_highlight": "#DAA520",
    "navigate_num": "#000000",
    "navigate_text": "#333333",
    "running_highlight": "#FF0000",
    "selected_highlight": "#FFD700",
    "sidebar_border": "#EEEEEE",
    "wrapper_background": "#FFFFFF"
   },
   "moveMenuLeft": true,
   "nav_menu": {
    "height": "99px",
    "width": "252px"
   },
   "navigate_menu": true,
   "number_sections": true,
   "sideBar": true,
   "skip_h1_title": false,
   "threshold": 4,
   "toc_cell": false,
   "toc_section_display": "block",
   "toc_window_display": false,
   "widenNotebook": false
  }
 },
 "nbformat": 4,
 "nbformat_minor": 2
}
